{
  "nbformat": 4,
  "nbformat_minor": 0,
  "metadata": {
    "colab": {
      "name": "Bitcoin_price_predictor.ipynb",
      "provenance": [],
      "authorship_tag": "ABX9TyNUdEa5YeuyUPX46/y54Fop",
      "include_colab_link": true
    },
    "kernelspec": {
      "name": "python3",
      "display_name": "Python 3"
    },
    "language_info": {
      "name": "python"
    }
  },
  "cells": [
    {
      "cell_type": "markdown",
      "metadata": {
        "id": "view-in-github",
        "colab_type": "text"
      },
      "source": [
        "<a href=\"https://colab.research.google.com/github/Regis-Caelum/Machine-Learning/blob/main/Bitcoin_price_predictor.ipynb\" target=\"_parent\"><img src=\"https://colab.research.google.com/assets/colab-badge.svg\" alt=\"Open In Colab\"/></a>"
      ]
    },
    {
      "cell_type": "markdown",
      "metadata": {
        "id": "dcRd2a4QWndO"
      },
      "source": [
        "Description: This program predicts the price of Bitcoin for the next 30 days."
      ]
    },
    {
      "cell_type": "code",
      "metadata": {
        "id": "DoYAko_WWgfv"
      },
      "source": [
        "#import libraries\n",
        "import pandas as pd\n",
        "import numpy as np"
      ],
      "execution_count": 2,
      "outputs": []
    },
    {
      "cell_type": "code",
      "metadata": {
        "colab": {
          "resources": {
            "http://localhost:8080/nbextensions/google.colab/files.js": {
              "data": "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",
              "ok": true,
              "headers": [
                [
                  "content-type",
                  "application/javascript"
                ]
              ],
              "status": 200,
              "status_text": "OK"
            }
          },
          "base_uri": "https://localhost:8080/",
          "height": 75
        },
        "id": "IfBApGjrX1M6",
        "outputId": "5305b3b3-3d72-4be4-a967-1d49703c9809"
      },
      "source": [
        "#Load data\n",
        "from google.colab import files\n",
        "uploaded = files.upload()"
      ],
      "execution_count": 4,
      "outputs": [
        {
          "output_type": "display_data",
          "data": {
            "text/html": [
              "\n",
              "     <input type=\"file\" id=\"files-80808d8d-234c-4820-81e5-34e9da4295b2\" name=\"files[]\" multiple disabled\n",
              "        style=\"border:none\" />\n",
              "     <output id=\"result-80808d8d-234c-4820-81e5-34e9da4295b2\">\n",
              "      Upload widget is only available when the cell has been executed in the\n",
              "      current browser session. Please rerun this cell to enable.\n",
              "      </output>\n",
              "      <script src=\"/nbextensions/google.colab/files.js\"></script> "
            ],
            "text/plain": [
              "<IPython.core.display.HTML object>"
            ]
          },
          "metadata": {
            "tags": []
          }
        },
        {
          "output_type": "stream",
          "text": [
            "Saving bitcoin_price_Training - Training.csv to bitcoin_price_Training - Training.csv\n"
          ],
          "name": "stdout"
        }
      ]
    },
    {
      "cell_type": "code",
      "metadata": {
        "colab": {
          "base_uri": "https://localhost:8080/",
          "height": 269
        },
        "id": "khqNOu5JYIeD",
        "outputId": "8bda565d-50d1-46e7-df45-6ebd722f4b0b"
      },
      "source": [
        "#Store the data into a variable\n",
        "df = pd.read_csv('bitcoin_price_Training - Training.csv')\n",
        "\n",
        "#Show the first 7 rows of data\n",
        "df.head(7)"
      ],
      "execution_count": 10,
      "outputs": [
        {
          "output_type": "execute_result",
          "data": {
            "text/html": [
              "<div>\n",
              "<style scoped>\n",
              "    .dataframe tbody tr th:only-of-type {\n",
              "        vertical-align: middle;\n",
              "    }\n",
              "\n",
              "    .dataframe tbody tr th {\n",
              "        vertical-align: top;\n",
              "    }\n",
              "\n",
              "    .dataframe thead th {\n",
              "        text-align: right;\n",
              "    }\n",
              "</style>\n",
              "<table border=\"1\" class=\"dataframe\">\n",
              "  <thead>\n",
              "    <tr style=\"text-align: right;\">\n",
              "      <th></th>\n",
              "      <th>Date</th>\n",
              "      <th>Open</th>\n",
              "      <th>High</th>\n",
              "      <th>Low</th>\n",
              "      <th>Close</th>\n",
              "      <th>Volume</th>\n",
              "      <th>Market Cap</th>\n",
              "    </tr>\n",
              "  </thead>\n",
              "  <tbody>\n",
              "    <tr>\n",
              "      <th>0</th>\n",
              "      <td>Jul 31, 2017</td>\n",
              "      <td>2763.24</td>\n",
              "      <td>2889.62</td>\n",
              "      <td>2720.61</td>\n",
              "      <td>2875.34</td>\n",
              "      <td>860,575,000</td>\n",
              "      <td>45,535,800,000</td>\n",
              "    </tr>\n",
              "    <tr>\n",
              "      <th>1</th>\n",
              "      <td>Jul 30, 2017</td>\n",
              "      <td>2724.39</td>\n",
              "      <td>2758.53</td>\n",
              "      <td>2644.85</td>\n",
              "      <td>2757.18</td>\n",
              "      <td>705,943,000</td>\n",
              "      <td>44,890,700,000</td>\n",
              "    </tr>\n",
              "    <tr>\n",
              "      <th>2</th>\n",
              "      <td>Jul 29, 2017</td>\n",
              "      <td>2807.02</td>\n",
              "      <td>2808.76</td>\n",
              "      <td>2692.80</td>\n",
              "      <td>2726.45</td>\n",
              "      <td>803,746,000</td>\n",
              "      <td>46,246,700,000</td>\n",
              "    </tr>\n",
              "    <tr>\n",
              "      <th>3</th>\n",
              "      <td>Jul 28, 2017</td>\n",
              "      <td>2679.73</td>\n",
              "      <td>2897.45</td>\n",
              "      <td>2679.73</td>\n",
              "      <td>2809.01</td>\n",
              "      <td>1,380,100,000</td>\n",
              "      <td>44,144,400,000</td>\n",
              "    </tr>\n",
              "    <tr>\n",
              "      <th>4</th>\n",
              "      <td>Jul 27, 2017</td>\n",
              "      <td>2538.71</td>\n",
              "      <td>2693.32</td>\n",
              "      <td>2529.34</td>\n",
              "      <td>2671.78</td>\n",
              "      <td>789,104,000</td>\n",
              "      <td>41,816,500,000</td>\n",
              "    </tr>\n",
              "    <tr>\n",
              "      <th>5</th>\n",
              "      <td>Jul 26, 2017</td>\n",
              "      <td>2577.77</td>\n",
              "      <td>2610.76</td>\n",
              "      <td>2450.80</td>\n",
              "      <td>2529.45</td>\n",
              "      <td>937,404,000</td>\n",
              "      <td>42,455,000,000</td>\n",
              "    </tr>\n",
              "    <tr>\n",
              "      <th>6</th>\n",
              "      <td>Jul 25, 2017</td>\n",
              "      <td>2757.50</td>\n",
              "      <td>2768.08</td>\n",
              "      <td>2480.96</td>\n",
              "      <td>2576.48</td>\n",
              "      <td>1,460,090,000</td>\n",
              "      <td>45,410,100,000</td>\n",
              "    </tr>\n",
              "  </tbody>\n",
              "</table>\n",
              "</div>"
            ],
            "text/plain": [
              "           Date     Open     High  ...    Close         Volume      Market Cap\n",
              "0  Jul 31, 2017  2763.24  2889.62  ...  2875.34    860,575,000  45,535,800,000\n",
              "1  Jul 30, 2017  2724.39  2758.53  ...  2757.18    705,943,000  44,890,700,000\n",
              "2  Jul 29, 2017  2807.02  2808.76  ...  2726.45    803,746,000  46,246,700,000\n",
              "3  Jul 28, 2017  2679.73  2897.45  ...  2809.01  1,380,100,000  44,144,400,000\n",
              "4  Jul 27, 2017  2538.71  2693.32  ...  2671.78    789,104,000  41,816,500,000\n",
              "5  Jul 26, 2017  2577.77  2610.76  ...  2529.45    937,404,000  42,455,000,000\n",
              "6  Jul 25, 2017  2757.50  2768.08  ...  2576.48  1,460,090,000  45,410,100,000\n",
              "\n",
              "[7 rows x 7 columns]"
            ]
          },
          "metadata": {
            "tags": []
          },
          "execution_count": 10
        }
      ]
    },
    {
      "cell_type": "code",
      "metadata": {
        "id": "psaUz8jhYnwL"
      },
      "source": [
        "#remove the date column\n",
        "df.drop(['Date'],1,inplace=True)\n",
        "df.drop(['High'],1,inplace=True)\n",
        "df.drop(['Low'],1,inplace=True)\n",
        "df.drop(['Volume'],1,inplace=True)\n",
        "df.drop(['Market Cap'],1,inplace=True)"
      ],
      "execution_count": 11,
      "outputs": []
    },
    {
      "cell_type": "code",
      "metadata": {
        "colab": {
          "base_uri": "https://localhost:8080/",
          "height": 269
        },
        "id": "WDDOI3LcYypy",
        "outputId": "72a56865-4d4c-4b57-a5f9-31dae54de5e2"
      },
      "source": [
        "#Show the first 7 roes of new dataset\n",
        "df.head(7)"
      ],
      "execution_count": 12,
      "outputs": [
        {
          "output_type": "execute_result",
          "data": {
            "text/html": [
              "<div>\n",
              "<style scoped>\n",
              "    .dataframe tbody tr th:only-of-type {\n",
              "        vertical-align: middle;\n",
              "    }\n",
              "\n",
              "    .dataframe tbody tr th {\n",
              "        vertical-align: top;\n",
              "    }\n",
              "\n",
              "    .dataframe thead th {\n",
              "        text-align: right;\n",
              "    }\n",
              "</style>\n",
              "<table border=\"1\" class=\"dataframe\">\n",
              "  <thead>\n",
              "    <tr style=\"text-align: right;\">\n",
              "      <th></th>\n",
              "      <th>Open</th>\n",
              "      <th>Close</th>\n",
              "    </tr>\n",
              "  </thead>\n",
              "  <tbody>\n",
              "    <tr>\n",
              "      <th>0</th>\n",
              "      <td>2763.24</td>\n",
              "      <td>2875.34</td>\n",
              "    </tr>\n",
              "    <tr>\n",
              "      <th>1</th>\n",
              "      <td>2724.39</td>\n",
              "      <td>2757.18</td>\n",
              "    </tr>\n",
              "    <tr>\n",
              "      <th>2</th>\n",
              "      <td>2807.02</td>\n",
              "      <td>2726.45</td>\n",
              "    </tr>\n",
              "    <tr>\n",
              "      <th>3</th>\n",
              "      <td>2679.73</td>\n",
              "      <td>2809.01</td>\n",
              "    </tr>\n",
              "    <tr>\n",
              "      <th>4</th>\n",
              "      <td>2538.71</td>\n",
              "      <td>2671.78</td>\n",
              "    </tr>\n",
              "    <tr>\n",
              "      <th>5</th>\n",
              "      <td>2577.77</td>\n",
              "      <td>2529.45</td>\n",
              "    </tr>\n",
              "    <tr>\n",
              "      <th>6</th>\n",
              "      <td>2757.50</td>\n",
              "      <td>2576.48</td>\n",
              "    </tr>\n",
              "  </tbody>\n",
              "</table>\n",
              "</div>"
            ],
            "text/plain": [
              "      Open    Close\n",
              "0  2763.24  2875.34\n",
              "1  2724.39  2757.18\n",
              "2  2807.02  2726.45\n",
              "3  2679.73  2809.01\n",
              "4  2538.71  2671.78\n",
              "5  2577.77  2529.45\n",
              "6  2757.50  2576.48"
            ]
          },
          "metadata": {
            "tags": []
          },
          "execution_count": 12
        }
      ]
    },
    {
      "cell_type": "code",
      "metadata": {
        "id": "5m4VLcrIY-kD"
      },
      "source": [
        "#A variable for prediction n days out into future\n",
        "prediction_days = 30\n",
        "\n",
        "#Create another column shifted 'n' units up\n",
        "df['Prediction'] = df[['Close']].shift(-prediction_days)"
      ],
      "execution_count": 14,
      "outputs": []
    },
    {
      "cell_type": "code",
      "metadata": {
        "colab": {
          "base_uri": "https://localhost:8080/",
          "height": 269
        },
        "id": "xA4SCKOjZ-JT",
        "outputId": "532c1f5a-8067-457f-fb04-cbdb1beb2485"
      },
      "source": [
        "#Show the first 7 rows of the new dataset\n",
        "df.head(7)"
      ],
      "execution_count": 15,
      "outputs": [
        {
          "output_type": "execute_result",
          "data": {
            "text/html": [
              "<div>\n",
              "<style scoped>\n",
              "    .dataframe tbody tr th:only-of-type {\n",
              "        vertical-align: middle;\n",
              "    }\n",
              "\n",
              "    .dataframe tbody tr th {\n",
              "        vertical-align: top;\n",
              "    }\n",
              "\n",
              "    .dataframe thead th {\n",
              "        text-align: right;\n",
              "    }\n",
              "</style>\n",
              "<table border=\"1\" class=\"dataframe\">\n",
              "  <thead>\n",
              "    <tr style=\"text-align: right;\">\n",
              "      <th></th>\n",
              "      <th>Open</th>\n",
              "      <th>Close</th>\n",
              "      <th>Prediction</th>\n",
              "    </tr>\n",
              "  </thead>\n",
              "  <tbody>\n",
              "    <tr>\n",
              "      <th>0</th>\n",
              "      <td>2763.24</td>\n",
              "      <td>2875.34</td>\n",
              "      <td>2434.55</td>\n",
              "    </tr>\n",
              "    <tr>\n",
              "      <th>1</th>\n",
              "      <td>2724.39</td>\n",
              "      <td>2757.18</td>\n",
              "      <td>2480.84</td>\n",
              "    </tr>\n",
              "    <tr>\n",
              "      <th>2</th>\n",
              "      <td>2807.02</td>\n",
              "      <td>2726.45</td>\n",
              "      <td>2539.32</td>\n",
              "    </tr>\n",
              "    <tr>\n",
              "      <th>3</th>\n",
              "      <td>2679.73</td>\n",
              "      <td>2809.01</td>\n",
              "      <td>2574.79</td>\n",
              "    </tr>\n",
              "    <tr>\n",
              "      <th>4</th>\n",
              "      <td>2538.71</td>\n",
              "      <td>2671.78</td>\n",
              "      <td>2552.45</td>\n",
              "    </tr>\n",
              "    <tr>\n",
              "      <th>5</th>\n",
              "      <td>2577.77</td>\n",
              "      <td>2529.45</td>\n",
              "      <td>2478.45</td>\n",
              "    </tr>\n",
              "    <tr>\n",
              "      <th>6</th>\n",
              "      <td>2757.50</td>\n",
              "      <td>2576.48</td>\n",
              "      <td>2589.41</td>\n",
              "    </tr>\n",
              "  </tbody>\n",
              "</table>\n",
              "</div>"
            ],
            "text/plain": [
              "      Open    Close  Prediction\n",
              "0  2763.24  2875.34     2434.55\n",
              "1  2724.39  2757.18     2480.84\n",
              "2  2807.02  2726.45     2539.32\n",
              "3  2679.73  2809.01     2574.79\n",
              "4  2538.71  2671.78     2552.45\n",
              "5  2577.77  2529.45     2478.45\n",
              "6  2757.50  2576.48     2589.41"
            ]
          },
          "metadata": {
            "tags": []
          },
          "execution_count": 15
        }
      ]
    },
    {
      "cell_type": "code",
      "metadata": {
        "colab": {
          "base_uri": "https://localhost:8080/",
          "height": 269
        },
        "id": "VFZODcpKaHDD",
        "outputId": "bdeded02-b968-4887-c180-6bec3120cb30"
      },
      "source": [
        "#Show the last 7 rows of the new dataset\n",
        "df.tail(7)"
      ],
      "execution_count": 16,
      "outputs": [
        {
          "output_type": "execute_result",
          "data": {
            "text/html": [
              "<div>\n",
              "<style scoped>\n",
              "    .dataframe tbody tr th:only-of-type {\n",
              "        vertical-align: middle;\n",
              "    }\n",
              "\n",
              "    .dataframe tbody tr th {\n",
              "        vertical-align: top;\n",
              "    }\n",
              "\n",
              "    .dataframe thead th {\n",
              "        text-align: right;\n",
              "    }\n",
              "</style>\n",
              "<table border=\"1\" class=\"dataframe\">\n",
              "  <thead>\n",
              "    <tr style=\"text-align: right;\">\n",
              "      <th></th>\n",
              "      <th>Open</th>\n",
              "      <th>Close</th>\n",
              "      <th>Prediction</th>\n",
              "    </tr>\n",
              "  </thead>\n",
              "  <tbody>\n",
              "    <tr>\n",
              "      <th>1549</th>\n",
              "      <td>98.10</td>\n",
              "      <td>112.50</td>\n",
              "      <td>NaN</td>\n",
              "    </tr>\n",
              "    <tr>\n",
              "      <th>1550</th>\n",
              "      <td>106.25</td>\n",
              "      <td>97.75</td>\n",
              "      <td>NaN</td>\n",
              "    </tr>\n",
              "    <tr>\n",
              "      <th>1551</th>\n",
              "      <td>116.38</td>\n",
              "      <td>105.21</td>\n",
              "      <td>NaN</td>\n",
              "    </tr>\n",
              "    <tr>\n",
              "      <th>1552</th>\n",
              "      <td>139.00</td>\n",
              "      <td>116.99</td>\n",
              "      <td>NaN</td>\n",
              "    </tr>\n",
              "    <tr>\n",
              "      <th>1553</th>\n",
              "      <td>144.00</td>\n",
              "      <td>139.00</td>\n",
              "      <td>NaN</td>\n",
              "    </tr>\n",
              "    <tr>\n",
              "      <th>1554</th>\n",
              "      <td>134.44</td>\n",
              "      <td>144.54</td>\n",
              "      <td>NaN</td>\n",
              "    </tr>\n",
              "    <tr>\n",
              "      <th>1555</th>\n",
              "      <td>135.30</td>\n",
              "      <td>134.21</td>\n",
              "      <td>NaN</td>\n",
              "    </tr>\n",
              "  </tbody>\n",
              "</table>\n",
              "</div>"
            ],
            "text/plain": [
              "        Open   Close  Prediction\n",
              "1549   98.10  112.50         NaN\n",
              "1550  106.25   97.75         NaN\n",
              "1551  116.38  105.21         NaN\n",
              "1552  139.00  116.99         NaN\n",
              "1553  144.00  139.00         NaN\n",
              "1554  134.44  144.54         NaN\n",
              "1555  135.30  134.21         NaN"
            ]
          },
          "metadata": {
            "tags": []
          },
          "execution_count": 16
        }
      ]
    },
    {
      "cell_type": "code",
      "metadata": {
        "colab": {
          "base_uri": "https://localhost:8080/"
        },
        "id": "xS9jBZPDaQ67",
        "outputId": "cc04f0ca-6378-4cec-a7ee-34e2858ccebc"
      },
      "source": [
        "#Create the independent dataset\n",
        "\n",
        "#Convert the dataframe to a numpy array and the dropp the prediction column\n",
        "df.drop(['Open'],1,inplace=True)\n",
        "X = np.array(df.drop(['Prediction'],1))\n",
        "\n",
        "#Remove the last 'n'roes where 'n'is the prediction_days\n",
        "\n",
        "X = X[:len(df)-prediction_days]\n",
        "\n",
        "print(X)"
      ],
      "execution_count": 17,
      "outputs": [
        {
          "output_type": "stream",
          "text": [
            "[[2875.34]\n",
            " [2757.18]\n",
            " [2726.45]\n",
            " ...\n",
            " [ 128.8 ]\n",
            " [ 132.3 ]\n",
            " [ 129.  ]]\n"
          ],
          "name": "stdout"
        }
      ]
    },
    {
      "cell_type": "code",
      "metadata": {
        "colab": {
          "base_uri": "https://localhost:8080/"
        },
        "id": "f9wJsT6ybNEN",
        "outputId": "8500ca35-93e5-4f9d-928c-a63c48eadb0e"
      },
      "source": [
        "#Create the dependent dataset\n",
        "\n",
        "#Convert the dataframe to a numpy array\n",
        "\n",
        "y = np.array(df['Prediction'])\n",
        "\n",
        "# Get all of the vaalues except the las 'n' rows\n",
        "y = y[:-prediction_days]\n",
        "print(y)"
      ],
      "execution_count": 23,
      "outputs": [
        {
          "output_type": "stream",
          "text": [
            "[2434.55 2480.84 2539.32 ...  139.    144.54  134.21]\n"
          ],
          "name": "stdout"
        }
      ]
    },
    {
      "cell_type": "code",
      "metadata": {
        "id": "SyE8SZmUbuvk"
      },
      "source": [
        "#Split the data into 80% training and 20% testing\n",
        "from sklearn.model_selection import train_test_split\n",
        "xtrain, xtest, ytrain, ytest = train_test_split(X,y, test_size=0.2)"
      ],
      "execution_count": 24,
      "outputs": []
    },
    {
      "cell_type": "code",
      "metadata": {
        "colab": {
          "base_uri": "https://localhost:8080/"
        },
        "id": "GQafzE2VcSaS",
        "outputId": "0781493b-d099-40ac-e2ee-11f38b842fc6"
      },
      "source": [
        "#Set the prediction_days_array = the last 30 rows from the original dataset\n",
        "prediction_days_array = np.array(df.drop(['Prediction'],1))[-prediction_days:]\n",
        "print(prediction_days_array)"
      ],
      "execution_count": 26,
      "outputs": [
        {
          "output_type": "stream",
          "text": [
            "[[129.75]\n",
            " [133.48]\n",
            " [131.98]\n",
            " [133.2 ]\n",
            " [126.7 ]\n",
            " [123.89]\n",
            " [122.88]\n",
            " [122.  ]\n",
            " [121.99]\n",
            " [123.5 ]\n",
            " [123.02]\n",
            " [118.76]\n",
            " [114.22]\n",
            " [111.5 ]\n",
            " [117.98]\n",
            " [115.  ]\n",
            " [115.24]\n",
            " [117.2 ]\n",
            " [112.67]\n",
            " [113.57]\n",
            " [111.5 ]\n",
            " [112.3 ]\n",
            " [115.91]\n",
            " [112.5 ]\n",
            " [ 97.75]\n",
            " [105.21]\n",
            " [116.99]\n",
            " [139.  ]\n",
            " [144.54]\n",
            " [134.21]]\n"
          ],
          "name": "stdout"
        }
      ]
    },
    {
      "cell_type": "code",
      "metadata": {
        "colab": {
          "base_uri": "https://localhost:8080/"
        },
        "id": "5DwA5bPUdfe9",
        "outputId": "65e319eb-3740-4ec9-f1ee-6a0d07917e79"
      },
      "source": [
        "from sklearn.svm import SVR\n",
        "\n",
        "#Create and train the Support Vector Machine (Regression) using radial basis function\n",
        "svr_rbf = SVR(kernel='rbf',C=1e3,gamma=0.00001)\n",
        "svr_rbf.fit(xtrain,ytrain)"
      ],
      "execution_count": 27,
      "outputs": [
        {
          "output_type": "execute_result",
          "data": {
            "text/plain": [
              "SVR(C=1000.0, cache_size=200, coef0=0.0, degree=3, epsilon=0.1, gamma=1e-05,\n",
              "    kernel='rbf', max_iter=-1, shrinking=True, tol=0.001, verbose=False)"
            ]
          },
          "metadata": {
            "tags": []
          },
          "execution_count": 27
        }
      ]
    },
    {
      "cell_type": "code",
      "metadata": {
        "colab": {
          "base_uri": "https://localhost:8080/"
        },
        "id": "YOUAefN7fGfJ",
        "outputId": "2203cf96-1dc2-476a-f55b-e74925dbca82"
      },
      "source": [
        "#test model\n",
        "svr_rbf_confidence = svr_rbf.score(xtest, ytest)\n",
        "print('accuracy: ', svr_rbf_confidence)"
      ],
      "execution_count": 28,
      "outputs": [
        {
          "output_type": "stream",
          "text": [
            "accuracy:  0.8394141753228669\n"
          ],
          "name": "stdout"
        }
      ]
    },
    {
      "cell_type": "code",
      "metadata": {
        "colab": {
          "base_uri": "https://localhost:8080/"
        },
        "id": "KFeU8GONfZiI",
        "outputId": "49dc812d-c5dd-4cb4-f538-1caadd201176"
      },
      "source": [
        "#print the predicted values\n",
        "svm_prediction = svr_rbf.predict(xtest)\n",
        "print(svm_prediction)\n",
        "\n",
        "print()\n",
        "\n",
        "#print the actual values\n",
        "print(ytest)"
      ],
      "execution_count": 29,
      "outputs": [
        {
          "output_type": "stream",
          "text": [
            "[ 617.46297029  926.25290486  654.50279093  104.35742505  452.18648255\n",
            "  604.14296225  242.48669855 2420.44328741  376.79535956  401.94800811\n",
            "  615.82839474  424.40959399  247.67308462  615.37580811  224.13068409\n",
            "   99.51279215  490.83793716  330.38607768  109.27097466  714.0171906\n",
            "  600.33318815  288.12110724  353.38799917  231.40975641  221.21583449\n",
            "  673.97239275  447.0200525   114.28987006  369.40859852  124.54163525\n",
            "  107.00661598  938.98599154  283.98373068  105.78511934  460.84160236\n",
            "  481.34531     461.67173899  179.6336779   227.15173769  909.89288806\n",
            "  260.34681326  258.86402692  192.57874143  585.3564041   621.61062641\n",
            "  748.50970466  415.36752127  229.71651077 1180.57893465  356.70257648\n",
            "  131.38188444  572.01465252  777.34363223  119.27833766  409.3585383\n",
            "  213.45019519  241.61828601  728.50129353  595.2307164   254.88526532\n",
            " 2298.44653663  953.57263668  358.41931165  593.90342176  937.8409479\n",
            "  112.11825     468.10539015  764.9929205   371.19114391  241.65869226\n",
            "  642.28416537  601.62008493 1707.77595749  441.40743081  413.6112139\n",
            "  125.88792445  423.79525228  595.4404387   284.79150225  752.45632909\n",
            " 1205.08934087  417.48860589  487.33186222  581.60503945  433.23376945\n",
            "  618.02158456  511.70750288 2389.52323839  685.06800451 2220.63876279\n",
            "  688.98708272  650.2385942   341.75283949  607.91215314  118.54088921\n",
            "  466.81397683  861.1092889   365.34258501  562.87447638  356.31112062\n",
            "  457.48007253  595.72135651  274.00637307  103.18089682  880.67009561\n",
            "  107.96256228  107.84128956  231.81740602  304.9877556   739.85081269\n",
            "  696.24329002  109.2977739   383.60889547  433.23376945  268.94645951\n",
            "  593.28199508  581.54888191  126.12114965  331.0275654   125.28485241\n",
            "  358.50420669  504.91542708  276.15771388  371.61315125 1003.70988691\n",
            "  962.72085838 1211.88725326  453.10234211  106.52410077  217.98628101\n",
            "  607.9479009   660.67499113  398.08143739  224.63297075  642.18706562\n",
            " 2417.08499232  432.25425677 2406.64143223  681.78690384 1140.27720271\n",
            "  641.67989385  264.10174182 1029.32875379  800.19015611 1010.53440421\n",
            "  108.63114403  579.4437223   596.24845301  414.35884912  574.26759364\n",
            "  371.59150355  622.84401652  623.27145029  584.74625124  224.52022902\n",
            "  616.99512164  353.31430072  422.97629627  411.63046189  230.61443469\n",
            "  106.47699824  270.25207505  213.20245741  324.07105572  269.49056798\n",
            "  126.05888744  578.9396939   609.83105567  593.62389939  601.67808833\n",
            "  584.66746551  485.99876096  582.95638634  238.37091039 1112.27114034\n",
            "  596.98603276  683.14412828  108.66247499  129.68548189  380.62172423\n",
            "  571.9805751   628.30135698  343.84551034  505.10941558  852.03293177\n",
            "  583.89474238  125.98113002  961.84436983  330.95626173  218.953799\n",
            "  602.99604719  683.47735969  354.53667524  354.19923742  435.03324732\n",
            "  309.11835351  319.97163579  442.62418544  420.53209301  224.72520685\n",
            " 2149.28215543  578.91411045  915.63444259  597.99010113  389.87222775\n",
            "  664.13804863  170.11103074  109.91647128  723.07035756 2415.25607221\n",
            "  387.94506637  426.01415585  583.9618911   106.35042874  255.68398976\n",
            "  574.79379584  583.65633107  623.8270082   699.76277049 1549.81632527\n",
            "  649.60188608  319.50951028  580.22379334  690.92690195  520.98216184\n",
            "  279.75672753  318.61605927  577.46515792  273.12759892  109.56732621\n",
            "  243.65697889 1581.02462501  223.39228927  655.03158996 1026.20324485\n",
            "  591.94981078  385.1509031   248.93839672  431.5708772   347.62281256\n",
            "  572.95108544  992.1816571   460.4936203   972.63845815  253.30628779\n",
            "  372.65303831  128.02786173 1148.32414043  120.73337292  426.2531828\n",
            "  589.91648884  165.2003965   663.18391697 1664.68085704  494.4819744\n",
            "  688.99487003  277.83437101  616.79393359 1000.99787457  110.81500161\n",
            "  408.62459738  643.6339084   515.1434139   103.24792197  589.65611919\n",
            "  230.79801782  881.30920073  593.98715189  236.39359927 1094.71742958\n",
            "  525.97064922  403.58841354  243.17287325  288.67281636  423.89763539\n",
            "  631.7679095   226.4559872   328.75935394  623.40387293  708.83138427\n",
            "  910.20784772  284.96881498  605.12262596  100.14124445  449.2880627\n",
            "  220.08524151  370.48837392  191.84456227  442.7037684   275.59535576\n",
            "  993.78578756  442.41953315  572.12363018  587.27902612  600.68378826\n",
            "  375.69490682  223.58718255  460.90893872  417.25029789 1185.51105557\n",
            " 1031.47430154  459.10042196  132.62136584  231.96004997  112.11233721\n",
            "  742.30712558]\n",
            "\n",
            "[ 647.    911.2   193.76  108.15  515.59  651.72  319.01 2539.32  244.94\n",
            "  455.65  629.37  358.04  281.7   660.62  211.08  122.22  592.58  482.28\n",
            "  133.48  795.87  602.27  232.76  435.79  219.16  315.03  657.07  322.02\n",
            "   98.4   447.61  122.11  123.02  921.79  257.06  103.95  330.75  444.69\n",
            "  423.73  128.22  231.4   908.59  285.83  376.85  311.4   524.58  694.47\n",
            "  872.6   373.45  267.96 1187.87  479.36  104.    845.59  360.33   94.12\n",
            "  416.32  247.03  238.87 1151.17  598.21  226.43 1787.13 1274.99  411.56\n",
            "  575.47  215.05   94.69  417.94 1045.11  342.42  237.47  640.38  445.98\n",
            " 2958.11  387.49  437.16  116.99  357.38  606.59  346.37  673.41 2518.56\n",
            "  435.12  505.97  624.82  420.62  449.46  595.81 2689.1   453.78 2515.35\n",
            "  727.83  641.07  411.57  605.24   89.39  549.26 1166.72  357.62  574.16\n",
            "  238.73  311.08  610.44  249.28  107.4   777.94  129.     94.99  253.18\n",
            "  229.98  790.83  702.03   80.53  398.82  362.49  222.27  575.04  631.46\n",
            "  105.21  247.05  120.06  361.56  565.04  234.53  345.31  973.82 1063.07\n",
            " 2464.58  527.39  101.7   290.59  608.24  689.65  507.81  281.88  609.74\n",
            " 2320.42  417.01 1578.8   928.1  1124.78  613.98  231.21  966.73  800.88\n",
            " 1054.23  131.98  635.81  572.3   376.62  624.68  504.25  737.23  581.64\n",
            "  525.14  232.08  665.12  423.2   421.69  240.38  285.34   99.99  217.46\n",
            "  267.8   357.84  249.01  109.99  624.09  533.86  570.47  654.97  597.26\n",
            "  594.92  650.96  226.9  1143.81  447.64  442.68   86.76  122.62  457.33\n",
            "  655.05  536.92  336.19  614.83  745.69  624.51  118.5   924.67  251.99\n",
            "  294.43  870.96  711.52  477.59  361.19  394.97  375.01  359.51  449.42\n",
            "  417.13  276.05 2478.45  174.61  886.62  771.44  422.82  443.19  128.38\n",
            "   68.43  745.05 2443.64  479.    432.52  666.52  104.    269.23  670.63\n",
            "  448.9   436.4   744.2  2589.6   605.69  237.29  630.69  703.24  622.21\n",
            "  234.34  276.5   571.59  266.21   77.53  237.1  1421.6   257.98  618.99\n",
            " 1011.8   703.7   383.76  233.51  395.54  358.42  566.36 1240.    428.59\n",
            " 1267.12  222.93  335.59  113.5  1182.68   96.02  485.25  615.33  129.65\n",
            "  714.48 1207.21  498.17 1043.33  352.22  438.82 1004.55   76.52  517.24\n",
            "  455.67  621.59  109.5   520.22  214.86  823.98  626.27  243.68 1102.17\n",
            "  621.55  511.15  238.74  219.84  380.15  868.48  247.27  263.44  825.37\n",
            "  338.11 1115.3   257.32  641.61  121.42  424.23  239.02  430.01  134.78\n",
            "  420.95  369.6  1187.81  326.93  672.86  578.29  594.99  325.75  281.23\n",
            "  320.05  433.5  1187.13 1042.9   466.09  133.49  273.47   98.5   739.25]\n"
          ],
          "name": "stdout"
        }
      ]
    },
    {
      "cell_type": "code",
      "metadata": {
        "colab": {
          "base_uri": "https://localhost:8080/"
        },
        "id": "YaUZPqZrgCC9",
        "outputId": "4764da01-f3ff-4656-c751-b5d46eda7da5"
      },
      "source": [
        "#Print the model predictions for the next 30 days\n",
        "svm_prediction = svr_rbf.predict(prediction_days_array)\n",
        "\n",
        "print(svm_prediction)\n",
        "\n",
        "print()\n",
        "\n",
        "#Print the actual price\n",
        "print(df.tail(prediction_days))"
      ],
      "execution_count": 31,
      "outputs": [
        {
          "output_type": "stream",
          "text": [
            "[126.47230308 129.44215435 128.23535238 129.21563576 124.12359561\n",
            " 122.02682451 121.28952249 120.65434762 120.64716879 121.74108154\n",
            " 121.39119643 118.37535555 115.34686232 113.62952051 117.84107135\n",
            " 115.8529996  116.0099378  117.31249789 114.35905321 114.92968814\n",
            " 113.62952051 114.12683501 116.45103041 114.25218557 106.17379981\n",
            " 109.95493813 117.17117405 134.01979304 138.81290857 130.03537901]\n",
            "\n",
            "       Close  Prediction\n",
            "1526  129.75         NaN\n",
            "1527  133.48         NaN\n",
            "1528  131.98         NaN\n",
            "1529  133.20         NaN\n",
            "1530  126.70         NaN\n",
            "1531  123.89         NaN\n",
            "1532  122.88         NaN\n",
            "1533  122.00         NaN\n",
            "1534  121.99         NaN\n",
            "1535  123.50         NaN\n",
            "1536  123.02         NaN\n",
            "1537  118.76         NaN\n",
            "1538  114.22         NaN\n",
            "1539  111.50         NaN\n",
            "1540  117.98         NaN\n",
            "1541  115.00         NaN\n",
            "1542  115.24         NaN\n",
            "1543  117.20         NaN\n",
            "1544  112.67         NaN\n",
            "1545  113.57         NaN\n",
            "1546  111.50         NaN\n",
            "1547  112.30         NaN\n",
            "1548  115.91         NaN\n",
            "1549  112.50         NaN\n",
            "1550   97.75         NaN\n",
            "1551  105.21         NaN\n",
            "1552  116.99         NaN\n",
            "1553  139.00         NaN\n",
            "1554  144.54         NaN\n",
            "1555  134.21         NaN\n"
          ],
          "name": "stdout"
        }
      ]
    },
    {
      "cell_type": "code",
      "metadata": {
        "colab": {
          "resources": {
            "http://localhost:8080/nbextensions/google.colab/files.js": {
              "data": "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",
              "ok": true,
              "headers": [
                [
                  "content-type",
                  "application/javascript"
                ]
              ],
              "status": 200,
              "status_text": "OK"
            }
          },
          "base_uri": "https://localhost:8080/",
          "height": 75
        },
        "id": "9dD7POG_hCUI",
        "outputId": "ff63eed9-ff88-4de5-85a6-4e9d4ac6a3b2"
      },
      "source": [
        "#Load data testing\n",
        "upload = files.upload()"
      ],
      "execution_count": 32,
      "outputs": [
        {
          "output_type": "display_data",
          "data": {
            "text/html": [
              "\n",
              "     <input type=\"file\" id=\"files-dae99434-3366-4d53-8c31-24c4969a194f\" name=\"files[]\" multiple disabled\n",
              "        style=\"border:none\" />\n",
              "     <output id=\"result-dae99434-3366-4d53-8c31-24c4969a194f\">\n",
              "      Upload widget is only available when the cell has been executed in the\n",
              "      current browser session. Please rerun this cell to enable.\n",
              "      </output>\n",
              "      <script src=\"/nbextensions/google.colab/files.js\"></script> "
            ],
            "text/plain": [
              "<IPython.core.display.HTML object>"
            ]
          },
          "metadata": {
            "tags": []
          }
        },
        {
          "output_type": "stream",
          "text": [
            "Saving bitcoin_price_1week_Test - Test.csv to bitcoin_price_1week_Test - Test.csv\n"
          ],
          "name": "stdout"
        }
      ]
    },
    {
      "cell_type": "code",
      "metadata": {
        "colab": {
          "base_uri": "https://localhost:8080/",
          "height": 269
        },
        "id": "2Qb-fsn1hUxw",
        "outputId": "aa02c23c-68a6-4913-e5d1-b73eff629c71"
      },
      "source": [
        "#Store the data into a variable\n",
        "dfs = pd.read_csv('bitcoin_price_1week_Test - Test.csv')\n",
        "\n",
        "#Show the first 7 rows of data\n",
        "dfs.head(8)"
      ],
      "execution_count": 41,
      "outputs": [
        {
          "output_type": "execute_result",
          "data": {
            "text/html": [
              "<div>\n",
              "<style scoped>\n",
              "    .dataframe tbody tr th:only-of-type {\n",
              "        vertical-align: middle;\n",
              "    }\n",
              "\n",
              "    .dataframe tbody tr th {\n",
              "        vertical-align: top;\n",
              "    }\n",
              "\n",
              "    .dataframe thead th {\n",
              "        text-align: right;\n",
              "    }\n",
              "</style>\n",
              "<table border=\"1\" class=\"dataframe\">\n",
              "  <thead>\n",
              "    <tr style=\"text-align: right;\">\n",
              "      <th></th>\n",
              "      <th>Date</th>\n",
              "      <th>Open</th>\n",
              "      <th>High</th>\n",
              "      <th>Low</th>\n",
              "      <th>Close</th>\n",
              "      <th>Volume</th>\n",
              "      <th>Market Cap</th>\n",
              "    </tr>\n",
              "  </thead>\n",
              "  <tbody>\n",
              "    <tr>\n",
              "      <th>0</th>\n",
              "      <td>Aug 07, 2017</td>\n",
              "      <td>3212.78</td>\n",
              "      <td>3397.68</td>\n",
              "      <td>3180.89</td>\n",
              "      <td>3378.94</td>\n",
              "      <td>1,482,280,000</td>\n",
              "      <td>52,987,300,000</td>\n",
              "    </tr>\n",
              "    <tr>\n",
              "      <th>1</th>\n",
              "      <td>Aug 06, 2017</td>\n",
              "      <td>3257.61</td>\n",
              "      <td>3293.29</td>\n",
              "      <td>3155.60</td>\n",
              "      <td>3213.94</td>\n",
              "      <td>1,105,030,000</td>\n",
              "      <td>53,720,900,000</td>\n",
              "    </tr>\n",
              "    <tr>\n",
              "      <th>2</th>\n",
              "      <td>Aug 05, 2017</td>\n",
              "      <td>2897.63</td>\n",
              "      <td>3290.01</td>\n",
              "      <td>2874.83</td>\n",
              "      <td>3252.91</td>\n",
              "      <td>1,945,700,000</td>\n",
              "      <td>47,778,200,000</td>\n",
              "    </tr>\n",
              "    <tr>\n",
              "      <th>3</th>\n",
              "      <td>Aug 04, 2017</td>\n",
              "      <td>2806.93</td>\n",
              "      <td>2899.33</td>\n",
              "      <td>2743.72</td>\n",
              "      <td>2895.89</td>\n",
              "      <td>1,002,120,000</td>\n",
              "      <td>46,276,200,000</td>\n",
              "    </tr>\n",
              "    <tr>\n",
              "      <th>4</th>\n",
              "      <td>Aug 03, 2017</td>\n",
              "      <td>2709.56</td>\n",
              "      <td>2813.31</td>\n",
              "      <td>2685.14</td>\n",
              "      <td>2804.73</td>\n",
              "      <td>804,797,000</td>\n",
              "      <td>44,666,400,000</td>\n",
              "    </tr>\n",
              "    <tr>\n",
              "      <th>5</th>\n",
              "      <td>Aug 02, 2017</td>\n",
              "      <td>2727.13</td>\n",
              "      <td>2762.53</td>\n",
              "      <td>2668.59</td>\n",
              "      <td>2710.67</td>\n",
              "      <td>1,094,950,000</td>\n",
              "      <td>44,950,800,000</td>\n",
              "    </tr>\n",
              "    <tr>\n",
              "      <th>6</th>\n",
              "      <td>Aug 01, 2017</td>\n",
              "      <td>2871.30</td>\n",
              "      <td>2921.35</td>\n",
              "      <td>2685.61</td>\n",
              "      <td>2718.26</td>\n",
              "      <td>1,324,670,000</td>\n",
              "      <td>47,321,800,000</td>\n",
              "    </tr>\n",
              "  </tbody>\n",
              "</table>\n",
              "</div>"
            ],
            "text/plain": [
              "           Date     Open     High  ...    Close         Volume      Market Cap\n",
              "0  Aug 07, 2017  3212.78  3397.68  ...  3378.94  1,482,280,000  52,987,300,000\n",
              "1  Aug 06, 2017  3257.61  3293.29  ...  3213.94  1,105,030,000  53,720,900,000\n",
              "2  Aug 05, 2017  2897.63  3290.01  ...  3252.91  1,945,700,000  47,778,200,000\n",
              "3  Aug 04, 2017  2806.93  2899.33  ...  2895.89  1,002,120,000  46,276,200,000\n",
              "4  Aug 03, 2017  2709.56  2813.31  ...  2804.73    804,797,000  44,666,400,000\n",
              "5  Aug 02, 2017  2727.13  2762.53  ...  2710.67  1,094,950,000  44,950,800,000\n",
              "6  Aug 01, 2017  2871.30  2921.35  ...  2718.26  1,324,670,000  47,321,800,000\n",
              "\n",
              "[7 rows x 7 columns]"
            ]
          },
          "metadata": {
            "tags": []
          },
          "execution_count": 41
        }
      ]
    },
    {
      "cell_type": "code",
      "metadata": {
        "colab": {
          "base_uri": "https://localhost:8080/"
        },
        "id": "2M4o2rtmhf55",
        "outputId": "4e5ee6b1-5a37-4637-865b-51f253178fc8"
      },
      "source": [
        "#remove the date column\n",
        "dfs.drop(['Date'],1,inplace=True)\n",
        "dfs.drop(['High'],1,inplace=True)\n",
        "dfs.drop(['Low'],1,inplace=True)\n",
        "dfs.drop(['Volume'],1,inplace=True)\n",
        "dfs.drop(['Market Cap'],1,inplace=True)\n",
        "dfs.drop(['Open'],1,inplace=True)\n",
        "print(dfs.head(7))"
      ],
      "execution_count": 42,
      "outputs": [
        {
          "output_type": "stream",
          "text": [
            "     Close\n",
            "0  3378.94\n",
            "1  3213.94\n",
            "2  3252.91\n",
            "3  2895.89\n",
            "4  2804.73\n",
            "5  2710.67\n",
            "6  2718.26\n"
          ],
          "name": "stdout"
        }
      ]
    },
    {
      "cell_type": "code",
      "metadata": {
        "colab": {
          "base_uri": "https://localhost:8080/"
        },
        "id": "yKhuvWEciMLP",
        "outputId": "7d35b098-9643-4d3f-cd20-7f03543f1162"
      },
      "source": [
        "prediction_days_array = np.array(dfs['Close'])[:]\n",
        "prediction_days_array = np.reshape(prediction_days_array, (7,1))\n",
        "#Print the model predictions for the next 30 days\n",
        "svm_prediction = svr_rbf.predict(prediction_days_array)\n",
        "\n",
        "print(svm_prediction)\n",
        "\n",
        "print()\n",
        "\n",
        "#Print the actual price\n",
        "print(dfs.head(7))"
      ],
      "execution_count": 52,
      "outputs": [
        {
          "output_type": "stream",
          "text": [
            "[1022.62211842 1038.12188657 1013.42150251 2065.07293436 2341.02624295\n",
            " 2418.80350075 2420.264639  ]\n",
            "\n",
            "     Close\n",
            "0  3378.94\n",
            "1  3213.94\n",
            "2  3252.91\n",
            "3  2895.89\n",
            "4  2804.73\n",
            "5  2710.67\n",
            "6  2718.26\n"
          ],
          "name": "stdout"
        }
      ]
    }
  ]
}