{
  "nbformat": 4,
  "nbformat_minor": 0,
  "metadata": {
    "colab": {
      "name": "Handwriting_expert.ipynb",
      "provenance": [],
      "collapsed_sections": [],
      "authorship_tag": "ABX9TyNSLgmLG7jeFxreWmOu/fIr",
      "include_colab_link": true
    },
    "kernelspec": {
      "name": "python3",
      "display_name": "Python 3"
    },
    "language_info": {
      "name": "python"
    }
  },
  "cells": [
    {
      "cell_type": "markdown",
      "metadata": {
        "id": "view-in-github",
        "colab_type": "text"
      },
      "source": [
        "<a href=\"https://colab.research.google.com/github/Regis-Caelum/Machine-Learning/blob/main/Handwriting_expert.ipynb\" target=\"_parent\"><img src=\"https://colab.research.google.com/assets/colab-badge.svg\" alt=\"Open In Colab\"/></a>"
      ]
    },
    {
      "cell_type": "code",
      "metadata": {
        "colab": {
          "base_uri": "https://localhost:8080/"
        },
        "id": "Z7NNLGFCYcdh",
        "outputId": "192f7e9f-135f-4cbe-8f1f-406b0448026b"
      },
      "source": [
        "!pip install mnist pillow"
      ],
      "execution_count": 44,
      "outputs": [
        {
          "output_type": "stream",
          "text": [
            "Requirement already satisfied: mnist in /usr/local/lib/python3.7/dist-packages (0.2.2)\n",
            "Requirement already satisfied: pillow in /usr/local/lib/python3.7/dist-packages (7.1.2)\n",
            "Requirement already satisfied: numpy in /usr/local/lib/python3.7/dist-packages (from mnist) (1.19.5)\n"
          ],
          "name": "stdout"
        }
      ]
    },
    {
      "cell_type": "code",
      "metadata": {
        "id": "bnIY-tLg7YBR"
      },
      "source": [
        "#imports\n",
        "from PIL import Image\n",
        "import mnist\n",
        "import numpy as np\n",
        "from sklearn.neural_network import MLPClassifier\n",
        "from sklearn.metrics import confusion_matrix"
      ],
      "execution_count": 45,
      "outputs": []
    },
    {
      "cell_type": "code",
      "metadata": {
        "id": "H8liUb24XPBY"
      },
      "source": [
        "#training\n",
        "xtrain = mnist.test_images()\n",
        "ytrain = mnist.train_labels()"
      ],
      "execution_count": 60,
      "outputs": []
    },
    {
      "cell_type": "code",
      "metadata": {
        "id": "5fFPSiGjXltY"
      },
      "source": [
        "#test\n",
        "xtest = mnist.test_images()\n",
        "ytest = mnist.test_labels()\n",
        "# print(xtrain.shape)"
      ],
      "execution_count": 47,
      "outputs": []
    },
    {
      "cell_type": "code",
      "metadata": {
        "id": "xiGGkfvVX2tE"
      },
      "source": [
        "#reshape to 2D\n",
        "xtrain = xtrain.reshape((-1, 28*28))\n",
        "xtest = xtest.reshape((-1, 28*28))"
      ],
      "execution_count": 63,
      "outputs": []
    },
    {
      "cell_type": "code",
      "metadata": {
        "id": "xSlFi_TLZhjM"
      },
      "source": [
        "#scale data to range from 0 to 1\n",
        "xtrain = (xtrain/256)\n",
        "xtest = (xtest/256)"
      ],
      "execution_count": 61,
      "outputs": []
    },
    {
      "cell_type": "code",
      "metadata": {
        "colab": {
          "base_uri": "https://localhost:8080/"
        },
        "id": "OArfW_j_d3co",
        "outputId": "e3e0c4ec-8e24-49e6-98bf-3c18720f29ef"
      },
      "source": [
        "ytrain = ytrain[:10000]\n",
        "print(ytrain.shape)"
      ],
      "execution_count": 66,
      "outputs": [
        {
          "output_type": "stream",
          "text": [
            "(10000,)\n"
          ],
          "name": "stdout"
        }
      ]
    },
    {
      "cell_type": "code",
      "metadata": {
        "id": "lm-oeJDkZ-wQ"
      },
      "source": [
        "clf = MLPClassifier(solver='adam', activation='relu', hidden_layer_sizes=(64,64))"
      ],
      "execution_count": 76,
      "outputs": []
    },
    {
      "cell_type": "code",
      "metadata": {
        "colab": {
          "base_uri": "https://localhost:8080/"
        },
        "id": "rKA6ZUozaKE_",
        "outputId": "d65b8952-8b67-4f87-ed39-8df86158b8f3"
      },
      "source": [
        "clf.fit(xtrain, ytrain)"
      ],
      "execution_count": 77,
      "outputs": [
        {
          "output_type": "stream",
          "text": [
            "/usr/local/lib/python3.7/dist-packages/sklearn/neural_network/_multilayer_perceptron.py:571: ConvergenceWarning: Stochastic Optimizer: Maximum iterations (200) reached and the optimization hasn't converged yet.\n",
            "  % self.max_iter, ConvergenceWarning)\n"
          ],
          "name": "stderr"
        },
        {
          "output_type": "execute_result",
          "data": {
            "text/plain": [
              "MLPClassifier(activation='relu', alpha=0.0001, batch_size='auto', beta_1=0.9,\n",
              "              beta_2=0.999, early_stopping=False, epsilon=1e-08,\n",
              "              hidden_layer_sizes=(64, 64), learning_rate='constant',\n",
              "              learning_rate_init=0.001, max_fun=15000, max_iter=200,\n",
              "              momentum=0.9, n_iter_no_change=10, nesterovs_momentum=True,\n",
              "              power_t=0.5, random_state=None, shuffle=True, solver='adam',\n",
              "              tol=0.0001, validation_fraction=0.1, verbose=False,\n",
              "              warm_start=False)"
            ]
          },
          "metadata": {
            "tags": []
          },
          "execution_count": 77
        }
      ]
    },
    {
      "cell_type": "code",
      "metadata": {
        "id": "nRX4NqunaOm2"
      },
      "source": [
        "predictions = clf.predict(xtest)"
      ],
      "execution_count": 70,
      "outputs": []
    },
    {
      "cell_type": "code",
      "metadata": {
        "id": "Wimgpuf_bmPk"
      },
      "source": [
        "acc = confusion_matrix(ytest, predictions)"
      ],
      "execution_count": 71,
      "outputs": []
    },
    {
      "cell_type": "code",
      "metadata": {
        "id": "4bTQjz6ubtXx"
      },
      "source": [
        "def accuracy(confusion_matrix):\n",
        "  diagonal = confusion_matrix.trace()\n",
        "  element = confusion_matrix.sum()\n",
        "  return diagonal/element"
      ],
      "execution_count": 74,
      "outputs": []
    },
    {
      "cell_type": "code",
      "metadata": {
        "colab": {
          "base_uri": "https://localhost:8080/"
        },
        "id": "yWXTbqfVc3NA",
        "outputId": "7293d458-246e-4f94-ac91-e88280a9eb53"
      },
      "source": [
        "print(accuracy(acc))"
      ],
      "execution_count": 75,
      "outputs": [
        {
          "output_type": "stream",
          "text": [
            "0.098\n"
          ],
          "name": "stdout"
        }
      ]
    },
    {
      "cell_type": "code",
      "metadata": {
        "id": "1Re3snQCfkNr"
      },
      "source": [
        "# img = Image.open('image.png')\n",
        "# data = list(img.getdata())\n",
        "\n",
        "# for i in range(len(data)):\n",
        "#   data[i] = 255-data[i]\n",
        "# data = np.array(data)/256\n",
        "# print(accuracy())\n",
        "# predictions = clf.predict(data)\n",
        "# print(predixtions)"
      ],
      "execution_count": 78,
      "outputs": []
    }
  ]
}